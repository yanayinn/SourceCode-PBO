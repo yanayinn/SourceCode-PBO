{
  "nbformat": 4,
  "nbformat_minor": 0,
  "metadata": {
    "colab": {
      "name": "pbo1.ipynb",
      "provenance": []
    },
    "kernelspec": {
      "name": "python3",
      "display_name": "Python 3"
    },
    "language_info": {
      "name": "python"
    }
  },
  "cells": [
    {
      "cell_type": "markdown",
      "source": [
        "FUNGSI"
      ],
      "metadata": {
        "id": "npeu64gQj4Rl"
      }
    },
    {
      "cell_type": "markdown",
      "source": [
        "percobaan fungsi 1 fungsi berparameter"
      ],
      "metadata": {
        "id": "gwpoVo7dgLep"
      }
    },
    {
      "cell_type": "code",
      "execution_count": null,
      "metadata": {
        "colab": {
          "base_uri": "https://localhost:8080/"
        },
        "id": "eIxeYTGWLcIl",
        "outputId": "347b9cec-397f-4d7d-ba59-c712e1a20e83"
      },
      "outputs": [
        {
          "output_type": "stream",
          "name": "stdout",
          "text": [
            "Enter a number : 1\n",
            "1234\n"
          ]
        }
      ],
      "source": [
        "def message(number):\n",
        "  print('Enter a number :', number)\n",
        "number=1234\n",
        "message(1)\n",
        "print(number)"
      ]
    },
    {
      "cell_type": "markdown",
      "source": [
        "Percobaan fungsi 2 multi parameter"
      ],
      "metadata": {
        "id": "Xfin68q_g0S6"
      }
    },
    {
      "cell_type": "code",
      "source": [
        "def message(what, number):\n",
        "  print('Enter',what,'number',number)\n",
        "message('telephone',11)\n",
        "message('price',5)\n",
        "message('number','number')"
      ],
      "metadata": {
        "colab": {
          "base_uri": "https://localhost:8080/"
        },
        "id": "sD60j_b5ZG4U",
        "outputId": "07e27f56-8e0d-4c79-abf3-e4f7de83a22a"
      },
      "execution_count": null,
      "outputs": [
        {
          "output_type": "stream",
          "name": "stdout",
          "text": [
            "Enter telephone number 11\n",
            "Enter price number 5\n",
            "Enter number number number\n"
          ]
        }
      ]
    },
    {
      "cell_type": "markdown",
      "source": [
        " Percobaan fungsi 3"
      ],
      "metadata": {
        "id": "urA47UinhAEX"
      }
    },
    {
      "cell_type": "code",
      "source": [
        "def my_fuction(a,b,c):\n",
        "  print(a,b,c)\n",
        "my_fuction(1,2,3)\n",
        "print()\n",
        "\n",
        "def introduction(first_name, last_name):\n",
        "  print('Hello, my name is', first_name, last_name)\n",
        "introduction('Skywalker','Luke')\n",
        "introduction('Quick','Jesse')\n",
        "introduction('Kent','Clark')\n",
        "print()\n",
        "\n",
        "def introduction(first_name, last_name):\n",
        "  print('Hello, my name is', first_name, last_name)\n",
        "introduction('Luke','Skywalker')\n",
        "introduction('Jesse','Quick')\n",
        "introduction('Clark','Kent')"
      ],
      "metadata": {
        "colab": {
          "base_uri": "https://localhost:8080/"
        },
        "id": "nNbJgxu8Zu_Z",
        "outputId": "2d4c7567-c268-4177-e8e9-a55818453b2c"
      },
      "execution_count": null,
      "outputs": [
        {
          "output_type": "stream",
          "name": "stdout",
          "text": [
            "1 2 3\n",
            "\n",
            "Hello, my name is Skywalker Luke\n",
            "Hello, my name is Quick Jesse\n",
            "Hello, my name is Kent Clark\n",
            "\n",
            "Hello, my name is Luke Skywalker\n",
            "Hello, my name is Jesse Quick\n",
            "Hello, my name is Clark Kent\n"
          ]
        }
      ]
    },
    {
      "cell_type": "markdown",
      "source": [
        "Percobaan fungsi 4"
      ],
      "metadata": {
        "id": "ZqOo2PcuhHGG"
      }
    },
    {
      "cell_type": "code",
      "source": [
        "def introduction(first_name, last_name):\n",
        "  print('Hello, my name is', first_name, last_name)\n",
        "introduction(first_name='James',last_name='Bond')\n",
        "introduction(last_name='Skywalker',first_name='Luke')"
      ],
      "metadata": {
        "colab": {
          "base_uri": "https://localhost:8080/"
        },
        "id": "zVrRbj70bKmp",
        "outputId": "d35963f7-91d8-4f8d-f7a3-467d2dd9b859"
      },
      "execution_count": null,
      "outputs": [
        {
          "output_type": "stream",
          "name": "stdout",
          "text": [
            "Hello, my name is James Bond\n",
            "Hello, my name is Luke Skywalker\n"
          ]
        }
      ]
    },
    {
      "cell_type": "markdown",
      "source": [
        "Percobaan 5"
      ],
      "metadata": {
        "id": "E65gBaTDhJ70"
      }
    },
    {
      "cell_type": "code",
      "source": [
        "def adding(a,b,c):\n",
        "  print(a,'+',b,'+',c,'=',a+b+c)\n",
        "adding(1,2,3)\n",
        "adding(c=1,a=2,b=3)\n",
        "adding(3,c=1,b=2)\n",
        "adding(4,3,c=2)"
      ],
      "metadata": {
        "colab": {
          "base_uri": "https://localhost:8080/"
        },
        "id": "Y0UXw1QCbw7F",
        "outputId": "6dc4f873-4cb0-4b13-9cfb-379f3b4fb639"
      },
      "execution_count": null,
      "outputs": [
        {
          "output_type": "stream",
          "name": "stdout",
          "text": [
            "1 + 2 + 3 = 6\n",
            "2 + 3 + 1 = 6\n",
            "3 + 2 + 1 = 6\n",
            "4 + 3 + 2 = 9\n"
          ]
        }
      ]
    },
    {
      "cell_type": "markdown",
      "source": [
        "Percobaan fungsi 6 (return, list, fungsi)"
      ],
      "metadata": {
        "id": "_0p_JO8YgF4l"
      }
    },
    {
      "cell_type": "code",
      "source": [
        "def list_sum(lst):\n",
        "  s=0\n",
        "  for elem in lst:\n",
        "    s+=elem\n",
        "  return s\n",
        "print(list_sum([5,4,3]))"
      ],
      "metadata": {
        "colab": {
          "base_uri": "https://localhost:8080/"
        },
        "id": "w_CvOcj0cYow",
        "outputId": "484f3c8c-b40a-4509-e04d-aee5db27110c"
      },
      "execution_count": null,
      "outputs": [
        {
          "output_type": "stream",
          "name": "stdout",
          "text": [
            "12\n"
          ]
        }
      ]
    },
    {
      "cell_type": "code",
      "source": [
        "def list_sum(lst):\n",
        "  s=0\n",
        "  for elem in lst:\n",
        "    s += elem\n",
        "  return s\n",
        "print(list_sum(5))"
      ],
      "metadata": {
        "colab": {
          "base_uri": "https://localhost:8080/",
          "height": 337
        },
        "id": "HYNljaEQfWZ-",
        "outputId": "bae38163-e901-4b7c-faa7-5f2ccc3e9868"
      },
      "execution_count": null,
      "outputs": [
        {
          "output_type": "error",
          "ename": "TypeError",
          "evalue": "ignored",
          "traceback": [
            "\u001b[0;31m---------------------------------------------------------------------------\u001b[0m",
            "\u001b[0;31mTypeError\u001b[0m                                 Traceback (most recent call last)",
            "\u001b[0;32m<ipython-input-12-474213c88c20>\u001b[0m in \u001b[0;36m<module>\u001b[0;34m()\u001b[0m\n\u001b[1;32m      4\u001b[0m     \u001b[0ms\u001b[0m \u001b[0;34m+=\u001b[0m \u001b[0melem\u001b[0m\u001b[0;34m\u001b[0m\u001b[0;34m\u001b[0m\u001b[0m\n\u001b[1;32m      5\u001b[0m   \u001b[0;32mreturn\u001b[0m \u001b[0ms\u001b[0m\u001b[0;34m\u001b[0m\u001b[0;34m\u001b[0m\u001b[0m\n\u001b[0;32m----> 6\u001b[0;31m \u001b[0mprint\u001b[0m\u001b[0;34m(\u001b[0m\u001b[0mlist_sum\u001b[0m\u001b[0;34m(\u001b[0m\u001b[0;36m5\u001b[0m\u001b[0;34m)\u001b[0m\u001b[0;34m)\u001b[0m\u001b[0;34m\u001b[0m\u001b[0;34m\u001b[0m\u001b[0m\n\u001b[0m",
            "\u001b[0;32m<ipython-input-12-474213c88c20>\u001b[0m in \u001b[0;36mlist_sum\u001b[0;34m(lst)\u001b[0m\n\u001b[1;32m      1\u001b[0m \u001b[0;32mdef\u001b[0m \u001b[0mlist_sum\u001b[0m\u001b[0;34m(\u001b[0m\u001b[0mlst\u001b[0m\u001b[0;34m)\u001b[0m\u001b[0;34m:\u001b[0m\u001b[0;34m\u001b[0m\u001b[0;34m\u001b[0m\u001b[0m\n\u001b[1;32m      2\u001b[0m   \u001b[0ms\u001b[0m\u001b[0;34m=\u001b[0m\u001b[0;36m0\u001b[0m\u001b[0;34m\u001b[0m\u001b[0;34m\u001b[0m\u001b[0m\n\u001b[0;32m----> 3\u001b[0;31m   \u001b[0;32mfor\u001b[0m \u001b[0melem\u001b[0m \u001b[0;32min\u001b[0m \u001b[0mlst\u001b[0m\u001b[0;34m:\u001b[0m\u001b[0;34m\u001b[0m\u001b[0;34m\u001b[0m\u001b[0m\n\u001b[0m\u001b[1;32m      4\u001b[0m     \u001b[0ms\u001b[0m \u001b[0;34m+=\u001b[0m \u001b[0melem\u001b[0m\u001b[0;34m\u001b[0m\u001b[0;34m\u001b[0m\u001b[0m\n\u001b[1;32m      5\u001b[0m   \u001b[0;32mreturn\u001b[0m \u001b[0ms\u001b[0m\u001b[0;34m\u001b[0m\u001b[0;34m\u001b[0m\u001b[0m\n",
            "\u001b[0;31mTypeError\u001b[0m: 'int' object is not iterable"
          ]
        }
      ]
    },
    {
      "cell_type": "code",
      "source": [
        "def strange_list_fun (n):\n",
        "  strange_list = []\n",
        "  for i in range(0,n):\n",
        "    strange_list.insert(0,i)\n",
        "  return strange_list\n",
        "print(strange_list_fun(5))"
      ],
      "metadata": {
        "colab": {
          "base_uri": "https://localhost:8080/"
        },
        "id": "ewREKWshfZhO",
        "outputId": "b593f07c-5a1e-42b0-cf02-7865d25e4a47"
      },
      "execution_count": null,
      "outputs": [
        {
          "output_type": "stream",
          "name": "stdout",
          "text": [
            "[4, 3, 2, 1, 0]\n"
          ]
        }
      ]
    },
    {
      "cell_type": "markdown",
      "source": [
        "Percobaan 7 membuat fungsi kasus BMI "
      ],
      "metadata": {
        "id": "7qZ6hpvmhSkN"
      }
    },
    {
      "cell_type": "code",
      "source": [
        "def bmi(weight, height):\n",
        "  return weight / height ** 2\n",
        "print(bmi(52.5, 1.65))"
      ],
      "metadata": {
        "colab": {
          "base_uri": "https://localhost:8080/"
        },
        "id": "ZMVOC2HbfZp6",
        "outputId": "71c6e4d9-693d-42a3-99c8-8ca1c51488ca"
      },
      "execution_count": null,
      "outputs": [
        {
          "output_type": "stream",
          "name": "stdout",
          "text": [
            "19.283746556473833\n"
          ]
        }
      ]
    },
    {
      "cell_type": "markdown",
      "source": [
        "Percobaan 8 membuat fungsi dengan or atau and"
      ],
      "metadata": {
        "id": "cEiamNELhW9K"
      }
    },
    {
      "cell_type": "code",
      "source": [
        "def is_a_triangle(a,b,c):\n",
        "  if a+b<=c:\n",
        "    return False\n",
        "  if b + c <= a:\n",
        "    return False\n",
        "  if c + a <= b :\n",
        "    return False\n",
        "  return True\n",
        "print(is_a_triangle(1,1,1))\n",
        "print(is_a_triangle(1,1,3))"
      ],
      "metadata": {
        "colab": {
          "base_uri": "https://localhost:8080/"
        },
        "id": "cavx8V63f5Wl",
        "outputId": "35f5f1b7-6215-4874-cd0d-eb51ebbe6df7"
      },
      "execution_count": null,
      "outputs": [
        {
          "output_type": "stream",
          "name": "stdout",
          "text": [
            "True\n",
            "False\n"
          ]
        }
      ]
    },
    {
      "cell_type": "code",
      "source": [
        "def is_a_triangle(a,b,c):\n",
        "  return a + b > c and b + c > a and c + a > b\n",
        "print(is_a_triangle(1,1,1))\n",
        "print(is_a_triangle(1,1,3)) "
      ],
      "metadata": {
        "colab": {
          "base_uri": "https://localhost:8080/"
        },
        "id": "dUuB5L_ghwXn",
        "outputId": "c26e774d-dac3-4286-ecba-4a713d36693c"
      },
      "execution_count": null,
      "outputs": [
        {
          "output_type": "stream",
          "name": "stdout",
          "text": [
            "True\n",
            "False\n"
          ]
        }
      ]
    },
    {
      "cell_type": "code",
      "source": [
        "def is_a_triangle(a,b,c):\n",
        "  if a + b <= c or b + c <= a or c + a <= b:\n",
        "    return False\n",
        "  return True\n",
        "print(is_a_triangle(1,1,1))\n",
        "print(is_a_triangle(1,1,3))"
      ],
      "metadata": {
        "colab": {
          "base_uri": "https://localhost:8080/"
        },
        "id": "WFjGr9DeiHEI",
        "outputId": "9bd04275-b26a-4fa0-d656-350e4799ef50"
      },
      "execution_count": null,
      "outputs": [
        {
          "output_type": "stream",
          "name": "stdout",
          "text": [
            "True\n",
            "False\n"
          ]
        }
      ]
    },
    {
      "cell_type": "markdown",
      "source": [
        "Percobaan 9 rumus segitiga"
      ],
      "metadata": {
        "id": "c2XrMAGJin_C"
      }
    },
    {
      "cell_type": "code",
      "source": [
        "def is_a_triangle(a,b,c):\n",
        "  return a+b>c and b+c>a and c+a>b\n",
        "\n",
        "def heron(a,b,c):\n",
        "  p = (a+b+c)/2\n",
        "  return(p*(p-a)*(p-b)*(p-c))**0.5\n",
        "\n",
        "def area_of_triangle(a,b,c):\n",
        "  if not is_a_triangle(a,b,c):\n",
        "    return None\n",
        "  return heron(a,b,c)\n",
        "print(area_of_triangle(1.,1.,2.**.5))"
      ],
      "metadata": {
        "colab": {
          "base_uri": "https://localhost:8080/"
        },
        "id": "MWgte8-visDe",
        "outputId": "00bcd5f0-aa4e-4879-94ad-5c606f1029c5"
      },
      "execution_count": null,
      "outputs": [
        {
          "output_type": "stream",
          "name": "stdout",
          "text": [
            "0.49999999999999983\n"
          ]
        }
      ]
    },
    {
      "cell_type": "markdown",
      "source": [
        "TUPLE DAN LIBRARY"
      ],
      "metadata": {
        "id": "-HdZ_SiJj_M0"
      }
    },
    {
      "cell_type": "markdown",
      "source": [
        "Percobaan tuple 1"
      ],
      "metadata": {
        "id": "_pq0MdaOkBzc"
      }
    },
    {
      "cell_type": "code",
      "source": [
        "my_tuple = tuple((1,2,'string'))\n",
        "print(my_tuple)\n",
        "\n",
        "my_list = [2,4,6]\n",
        "print(my_list)\n",
        "print(type(my_list))\n",
        "tup = tuple(my_list)\n",
        "print(tup)\n",
        "print(type(tup))"
      ],
      "metadata": {
        "colab": {
          "base_uri": "https://localhost:8080/"
        },
        "id": "FIrCLG-CkEJW",
        "outputId": "74733fdc-57f1-4469-e9f0-55950af9e7ff"
      },
      "execution_count": null,
      "outputs": [
        {
          "output_type": "stream",
          "name": "stdout",
          "text": [
            "(1, 2, 'string')\n",
            "[2, 4, 6]\n",
            "<class 'list'>\n",
            "(2, 4, 6)\n",
            "<class 'tuple'>\n"
          ]
        }
      ]
    },
    {
      "cell_type": "code",
      "source": [
        "my_tuple=(1,10,100)\n",
        "t1=my_tuple + (1000,10000)\n",
        "t2=my_tuple * 3\n",
        "\n",
        "print(len(t2))\n",
        "print(t1)\n",
        "print(t2)\n",
        "print(10 in my_tuple)\n",
        "print(-10 not in my_tuple)"
      ],
      "metadata": {
        "colab": {
          "base_uri": "https://localhost:8080/"
        },
        "id": "zh39_zZokl60",
        "outputId": "3db08a37-c9d5-4ba9-cdd0-2cb16670195c"
      },
      "execution_count": null,
      "outputs": [
        {
          "output_type": "stream",
          "name": "stdout",
          "text": [
            "9\n",
            "(1, 10, 100, 1000, 10000)\n",
            "(1, 10, 100, 1, 10, 100, 1, 10, 100)\n",
            "True\n",
            "True\n"
          ]
        }
      ]
    },
    {
      "cell_type": "markdown",
      "source": [
        "Percobaan library 1"
      ],
      "metadata": {
        "id": "BZsZ0lNXxjGy"
      }
    },
    {
      "cell_type": "code",
      "source": [
        "dictionary = {'cat':'chat','dog':'chien','horse':'cheval'}\n",
        "phone_numbers = {'boss':5551234567,'Suzy':22657854310}\n",
        "empty_dictionary = {}\n",
        "print(dictionary['cat'])\n",
        "print(phone_numbers['Suzy'])"
      ],
      "metadata": {
        "colab": {
          "base_uri": "https://localhost:8080/"
        },
        "id": "l863vXC2xlrH",
        "outputId": "3a54c001-befe-4d87-d0cb-85871e7f576e"
      },
      "execution_count": null,
      "outputs": [
        {
          "output_type": "stream",
          "name": "stdout",
          "text": [
            "chat\n",
            "22657854310\n"
          ]
        }
      ]
    },
    {
      "cell_type": "code",
      "source": [
        "dictionary = {'cat':'chat','dog':'chien','horse':'cheval'}\n",
        "for key in dictionary.keys():\n",
        "  print(key,'->',dictionary[key])"
      ],
      "metadata": {
        "colab": {
          "base_uri": "https://localhost:8080/"
        },
        "id": "4MhIDA9qyveL",
        "outputId": "454f5864-b375-451b-d080-f4ecd67503b4"
      },
      "execution_count": null,
      "outputs": [
        {
          "output_type": "stream",
          "name": "stdout",
          "text": [
            "cat -> chat\n",
            "dog -> chien\n",
            "horse -> cheval\n"
          ]
        }
      ]
    },
    {
      "cell_type": "code",
      "source": [
        "dictionary={'cat':'chat','dog':'chien','horse':'cheval'}\n",
        "words = ['cat','lion','horse']\n",
        "for word in words:\n",
        "  if word in dictionary:\n",
        "    print(word, '->', dictionary[word])\n",
        "  else:\n",
        "    print(word,'is not in dictionary')"
      ],
      "metadata": {
        "colab": {
          "base_uri": "https://localhost:8080/"
        },
        "id": "WptBLI_czGZs",
        "outputId": "f3d10d69-0441-429d-b967-d7536b46c2b6"
      },
      "execution_count": null,
      "outputs": [
        {
          "output_type": "stream",
          "name": "stdout",
          "text": [
            "cat -> chat\n",
            "lion is not in dictionary\n",
            "horse -> cheval\n"
          ]
        }
      ]
    },
    {
      "cell_type": "markdown",
      "source": [
        "Percobaan tuple dengan library"
      ],
      "metadata": {
        "id": "bofgO6Aazu3D"
      }
    },
    {
      "cell_type": "code",
      "source": [
        "school_class = {}\n",
        "while True:\n",
        "  name = input(\"Enter the student's name :\")\n",
        "  if name == '':\n",
        "    break\n",
        "  score = int(input(\"Enter the student's score(0-10) :\"))\n",
        "  if score not in range(0,11):\n",
        "    break\n",
        "  if name in school_class:\n",
        "    school_class[name] += (score,)\n",
        "  else:\n",
        "    school_class[name] = (score,)\n",
        "for name in sorted(school_class.keys()):\n",
        "  adding = 0\n",
        "  counter = 0\n",
        "  for score in school_class[name]:\n",
        "    adding += score\n",
        "    counter += 1\n",
        "  print(name,':',adding/counter)"
      ],
      "metadata": {
        "colab": {
          "base_uri": "https://localhost:8080/"
        },
        "id": "1gIXBio3zxM5",
        "outputId": "33f81263-cff5-4e37-b304-1479594ea4ad"
      },
      "execution_count": null,
      "outputs": [
        {
          "output_type": "stream",
          "name": "stdout",
          "text": [
            "Enter the student's name :cavel\n",
            "Enter the student's score(0-10) :10\n",
            "Enter the student's name :ozi\n",
            "Enter the student's score(0-10) :9\n",
            "Enter the student's name :\n",
            "cavel : 10.0\n",
            "ozi : 9.0\n"
          ]
        }
      ]
    },
    {
      "cell_type": "markdown",
      "source": [
        "EXCEPTION\n",
        "1.   Percobaan 1\n",
        "\n"
      ],
      "metadata": {
        "id": "0zIrAKUe1i6Y"
      }
    },
    {
      "cell_type": "code",
      "source": [
        "try:\n",
        "  value = int(input('Enter a natural number:'))\n",
        "  print('The Reciprocal of',value,'is',1/value)\n",
        "except:\n",
        "  print('I do not know what to do.')"
      ],
      "metadata": {
        "colab": {
          "base_uri": "https://localhost:8080/"
        },
        "id": "qcDi2FCK1hkz",
        "outputId": "8e03a44b-7096-4e20-ad25-dd1c7c706c78"
      },
      "execution_count": null,
      "outputs": [
        {
          "output_type": "stream",
          "name": "stdout",
          "text": [
            "Enter a natural number:y\n",
            "I do not know what to do.\n"
          ]
        }
      ]
    },
    {
      "cell_type": "markdown",
      "source": [
        "percobaan 2\n",
        "menambahkan except zerodivissionerror"
      ],
      "metadata": {
        "id": "NztU4Pfe2SmT"
      }
    },
    {
      "cell_type": "code",
      "source": [
        "while True:\n",
        "  try:\n",
        "    number = int(input('Enter an int number:'))\n",
        "    print(5/number)\n",
        "    break\n",
        "  except ValueError:\n",
        "    print('Wrong value.')\n",
        "  except ZeroDivisionError:\n",
        "    print('Sorry. I can not divide by zero.')\n",
        "  except:\n",
        "    print('I do not know what to do...')"
      ],
      "metadata": {
        "colab": {
          "base_uri": "https://localhost:8080/"
        },
        "id": "7WKdp8YD2Wo5",
        "outputId": "522bf23c-6770-447c-cedc-2f545f95819c"
      },
      "execution_count": null,
      "outputs": [
        {
          "output_type": "stream",
          "name": "stdout",
          "text": [
            "Enter an int number:8\n",
            "0.625\n"
          ]
        }
      ]
    },
    {
      "cell_type": "markdown",
      "source": [
        "percobaan 3\n",
        "Masukkan nilai 0"
      ],
      "metadata": {
        "id": "eIsjsbwJ3Hoz"
      }
    },
    {
      "cell_type": "code",
      "source": [
        "try:\n",
        "  value=int(input('Enter a value:'))\n",
        "  print(value/value)\n",
        "except ValueError:\n",
        "  print('Bad input...')\n",
        "except ZeroDivisionError:\n",
        "  print('Very bad input...')\n",
        "except:\n",
        "  print('Booo!')"
      ],
      "metadata": {
        "colab": {
          "base_uri": "https://localhost:8080/"
        },
        "id": "peiP7AWT3GIE",
        "outputId": "6eaa3138-b6e5-468b-8b54-d8d8d50e38e9"
      },
      "execution_count": null,
      "outputs": [
        {
          "output_type": "stream",
          "name": "stdout",
          "text": [
            "Enter a value:0\n",
            "Very bad input...\n"
          ]
        }
      ]
    }
  ]
}